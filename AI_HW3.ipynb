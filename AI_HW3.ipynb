{
 "cells": [
  {
   "cell_type": "markdown",
   "metadata": {},
   "source": [
    "# Problem 1"
   ]
  },
  {
   "cell_type": "code",
   "execution_count": null,
   "metadata": {},
   "outputs": [],
   "source": [
    "import numpy as np\n",
    "import matplotlib.pyplot as plt\n",
    "\n",
    "call_price= {16100:293, 16200:236, 16300:177, 16400:131, 16500:93, 16600:64, 16700:43, 16800:28.5}\n",
    "put_price= {16100:114, 16200:149, 16300:194, 16400:246, 16500:308, 16600:384, 16700:466, 16800:555}\n",
    "ST= np.arange(15800, 17200)\n",
    "\n",
    "def optionProfit(pos):\n",
    "    call_position= pos['call']\n",
    "    put_position= pos['put']\n",
    "    profit= np.zeros(ST.shape)\n",
    "    \n",
    "    for position in call_position:\n",
    "        K= position[0]\n",
    "        N= position[1]\n",
    "        c= call_price[K]\n",
    "        profit += (np.maximum(ST-K, 0)-c)*N\n",
    "    for position in put_position:\n",
    "        K= position[0]\n",
    "        N= position[1]\n",
    "        p= put_price[K]\n",
    "        profit += (np.maximum(K-ST, 0)-p)*N\n",
    "    return profit\n",
    "\n",
    "pos1= {'call':[], \n",
    "       'put':[[16400,-2],[16600,-2],[16500,4]]\n",
    "       }\n",
    "p1= optionProfit(pos1)\n",
    "\n",
    "pos2= {'call':[[16300,-3],[16700,-3],[16500,6]],\n",
    "       'put':[]\n",
    "       } \n",
    "p2= optionProfit(pos2)\n",
    "\n",
    "pos3= {'call':[[16500, 1]], \n",
    "       'put':[[16500, 1]]\n",
    "       }\n",
    "p3= optionProfit(pos3)\n",
    "\n",
    "pos4= {'call':[[16600, 2]], \n",
    "       'put':[[16400, 2]]\n",
    "       }\n",
    "p4= optionProfit(pos4)\n",
    "\n",
    "pos5= {'call':[[16700, 1]], \n",
    "       'put':[[16300, 1]]\n",
    "       }\n",
    "p5= optionProfit(pos5)\n",
    "\n",
    "plt.plot(ST, p1, label= 'Butterfly Spread 1')\n",
    "plt.plot(ST, p2, label= 'Butterfly Spread 2')\n",
    "plt.plot(ST, p3, label= 'Straddle')\n",
    "plt.plot(ST, p4, label= 'Strangle 1')\n",
    "plt.plot(ST, p5, label= 'Strangle 2')\n",
    "plt.plot([ST[0], ST[-1]], [0, 0], 'k--')\n",
    "plt.legend(loc= 'best')\n",
    "plt.show()\n"
   ]
  },
  {
   "cell_type": "markdown",
   "metadata": {},
   "source": [
    "# Problem 2"
   ]
  },
  {
   "cell_type": "code",
   "execution_count": null,
   "metadata": {},
   "outputs": [],
   "source": [
    "all_price= {}\n",
    "for price in call_price.keys():\n",
    "      pos= {'call':[[price, 1]],\n",
    "            'put': [[price, -1]]\n",
    "            }\n",
    "      p= optionProfit(pos)\n",
    "      all_price[price]= p\n",
    "\n",
    "arb= {}\n",
    "max_arb= 0\n",
    "for i in call_price.keys():\n",
    "      for j in call_price.keys():\n",
    "            if i<=j:\n",
    "                  continue\n",
    "            max_arb= max(all_price[i][0]-all_price[j][0], max_arb)\n",
    "            arb[max_arb]= [i, j]\n",
    "print(\"{},{}: {}\".format(arb[max_arb][0], arb[max_arb][1], max_arb))"
   ]
  },
  {
   "cell_type": "markdown",
   "metadata": {},
   "source": [
    "# Problem 3"
   ]
  },
  {
   "cell_type": "code",
   "execution_count": null,
   "metadata": {},
   "outputs": [],
   "source": []
  }
 ],
 "metadata": {
  "language_info": {
   "name": "python"
  }
 },
 "nbformat": 4,
 "nbformat_minor": 2
}
